{
  "nbformat": 4,
  "nbformat_minor": 0,
  "metadata": {
    "colab": {
      "name": "Induced voltage difference.ipynb",
      "provenance": [],
      "authorship_tag": "ABX9TyN+fmWE4c3HJhI3MH0Frtbi",
      "include_colab_link": true
    },
    "kernelspec": {
      "name": "python3",
      "display_name": "Python 3"
    },
    "language_info": {
      "name": "python"
    }
  },
  "cells": [
    {
      "cell_type": "markdown",
      "metadata": {
        "id": "view-in-github",
        "colab_type": "text"
      },
      "source": [
        "<a href=\"https://colab.research.google.com/github/pbelousova/371-Lab/blob/main/Induced_voltage_difference.ipynb\" target=\"_parent\"><img src=\"https://colab.research.google.com/assets/colab-badge.svg\" alt=\"Open In Colab\"/></a>"
      ]
    },
    {
      "cell_type": "code",
      "metadata": {
        "id": "UU2mNYRzAeZm"
      },
      "source": [
        "import pandas as pd\n",
        "import matplotlib.pyplot as plt"
      ],
      "execution_count": 1,
      "outputs": []
    },
    {
      "cell_type": "code",
      "metadata": {
        "id": "wCU5vp8lAh0n"
      },
      "source": [
        "path = \"https://raw.githubusercontent.com/pbelousova/371-Lab/main/Induced1.csv\"\n",
        "thedata = pd.read_csv(path, names = ['time','voltage_out'], skiprows=10)\n",
        "thedata[\"time_seconds\"] = .001 * thedata[\"time\"]\n",
        "Zero_value = 679.0\n",
        "ADC_step = 0.00322 # 3.3/1023 = 3.2mV\n",
        "thedata['Voltage_induced_[V]'] = ((thedata['voltage_out'] - Zero_value) * ADC_step)"
      ],
      "execution_count": 2,
      "outputs": []
    },
    {
      "cell_type": "code",
      "metadata": {
        "id": "xeQWxYKmAjoa"
      },
      "source": [
        "ax = thedata.plot('time_seconds','Voltage_induced_[V]',xlabel = \"Time [s]\", ylabel=\"Voltage_induced_[V]\",style='r',label=\"Voltage induced\")\n",
        "ax.set_xlim([7.2,7.4])"
      ],
      "execution_count": null,
      "outputs": []
    },
    {
      "cell_type": "code",
      "metadata": {
        "id": "pUW8u-FSAkYn"
      },
      "source": [
        "# this version is nice for looking up values and zoom in/out\n",
        "import numpy as np\n",
        "import pandas as pd\n",
        "import plotly.express as px\n",
        "\n",
        "Zero_value = 679.0\n",
        "ADC_step = 0.00322 # 3.3/1023 = 3.2mV\n",
        "\n",
        "\n",
        "url = 'https://raw.githubusercontent.com/pbelousova/371-Lab/main/Induced1.csv'\n",
        "thedata = pd.read_csv(url)\n",
        "thedata ['Voltage_induced_[V]'] = ((thedata['Voltage_out_[AU]'] - Zero_value) * ADC_step)\n",
        "\n",
        "fig = px.line(thedata, x = 'Relative_Time_[ms]', y = 'Voltage_induced_[V]', title='Voltage induced vs. Time')\n",
        "\n",
        "fig.show()"
      ],
      "execution_count": null,
      "outputs": []
    }
  ]
}