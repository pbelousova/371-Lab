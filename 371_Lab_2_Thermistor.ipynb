{
  "nbformat": 4,
  "nbformat_minor": 0,
  "metadata": {
    "colab": {
      "name": "371 Lab 2 : Thermistor.ipynb",
      "provenance": [],
      "authorship_tag": "ABX9TyOnTThKiMqzwJEh1rOkvasS",
      "include_colab_link": true
    },
    "kernelspec": {
      "name": "python3",
      "display_name": "Python 3"
    },
    "language_info": {
      "name": "python"
    }
  },
  "cells": [
    {
      "cell_type": "markdown",
      "metadata": {
        "id": "view-in-github",
        "colab_type": "text"
      },
      "source": [
        "<a href=\"https://colab.research.google.com/github/pbelousova/371-Lab/blob/main/371_Lab_2_Thermistor.ipynb\" target=\"_parent\"><img src=\"https://colab.research.google.com/assets/colab-badge.svg\" alt=\"Open In Colab\"/></a>"
      ]
    },
    {
      "cell_type": "code",
      "metadata": {
        "id": "QPKO7MrUT_-y"
      },
      "source": [
        "import pandas as pd\n",
        "import plotly.express as px"
      ],
      "execution_count": 3,
      "outputs": []
    },
    {
      "cell_type": "code",
      "metadata": {
        "id": "RxqNjfkQUPRQ"
      },
      "source": [
        "url = 'https://raw.githubusercontent.com/pbelousova/371-Lab/main/371%20Lab%202%3A%20Thermister/Data%20Thermistor.csv'\n",
        "df1 = pd.read_csv(url)"
      ],
      "execution_count": 4,
      "outputs": []
    },
    {
      "cell_type": "code",
      "metadata": {
        "id": "LagkfXJNUflu"
      },
      "source": [
        "fig = px.line(df1, x = 'Relative_time_[ms]', y = 'Voltage', title='Voltage vs. Time')\n",
        "fig.show()"
      ],
      "execution_count": null,
      "outputs": []
    },
    {
      "cell_type": "code",
      "metadata": {
        "id": "twqgL0lHyXKw"
      },
      "source": [
        "import numpy as np\n",
        "\n",
        "R_ref = 10000.0 # 10 kΩ\n",
        "V_in = 1023.0   # analog mapping of 5 V\n",
        "\n",
        "url = 'https://raw.githubusercontent.com/pbelousova/371-Lab/main/371%20Lab%202%3A%20Thermister/Data%20Thermistor.csv'\n",
        "df1 = pd.read_csv(url)\n",
        "\n",
        "df1 ['R_thermistor [Ω]'] = R_ref*( V_in/df1['Voltage']-1.0)\n",
        "\n",
        "fig = px.line(df1, x = 'Relative_time_[ms]', y = 'R_thermistor [Ω]', title='Resistance vs. Time')\n",
        "fig.show()\n"
      ],
      "execution_count": null,
      "outputs": []
    },
    {
      "cell_type": "code",
      "metadata": {
        "id": "aGJP-zms0yM8"
      },
      "source": [
        "print(df1)"
      ],
      "execution_count": null,
      "outputs": []
    }
  ]
}