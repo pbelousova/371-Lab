{
  "nbformat": 4,
  "nbformat_minor": 0,
  "metadata": {
    "colab": {
      "name": "0_Voltage_difference_vs_velocity.ipynb",
      "provenance": [],
      "authorship_tag": "ABX9TyOb0YkRQ1/dhoqKJ8RDkJGx",
      "include_colab_link": true
    },
    "kernelspec": {
      "name": "python3",
      "display_name": "Python 3"
    },
    "language_info": {
      "name": "python"
    }
  },
  "cells": [
    {
      "cell_type": "markdown",
      "metadata": {
        "id": "view-in-github",
        "colab_type": "text"
      },
      "source": [
        "<a href=\"https://colab.research.google.com/github/pbelousova/371-Lab/blob/main/0_Voltage_difference_vs_velocity.ipynb\" target=\"_parent\"><img src=\"https://colab.research.google.com/assets/colab-badge.svg\" alt=\"Open In Colab\"/></a>"
      ]
    },
    {
      "cell_type": "code",
      "execution_count": 3,
      "metadata": {
        "id": "rR5ijxEffBv0"
      },
      "outputs": [],
      "source": [
        "import pandas as pd\n",
        "import matplotlib.pyplot as plt"
      ]
    },
    {
      "cell_type": "code",
      "source": [
        "# this version is nice for looking up values and zoom in/out\n",
        "import numpy as np\n",
        "import pandas as pd\n",
        "import plotly.express as px\n",
        "\n",
        "#Zero_value = 678.0\n",
        "#ADC_step = 0.00322 # 3.3/1023 = 3.2mV\n",
        "\n",
        "\n",
        "url = 'https://raw.githubusercontent.com/pbelousova/371-Lab/main/Height_Voltage.csv'\n",
        "thedata = pd.read_csv(url)\n",
        "thedata ['Velocity_[m/s]'] = (2*9.8*(thedata['Height_[m]']))**1/2\n",
        "\n",
        "fig = px.scatter(thedata, x = 'Velocity_[m/s]', y = 'Voltage_difference_[V]', trendline=\"ols\", title='Voltage induced vs. Velocity')\n",
        "fig.data[1].line.color = 'red'\n",
        "fig.show()"
      ],
      "metadata": {
        "id": "099kpOY7fGRO"
      },
      "execution_count": null,
      "outputs": []
    }
  ]
}