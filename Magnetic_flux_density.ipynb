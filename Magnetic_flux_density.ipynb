{
  "nbformat": 4,
  "nbformat_minor": 0,
  "metadata": {
    "colab": {
      "name": "Magnetic_flux_density.ipynb",
      "provenance": [],
      "authorship_tag": "ABX9TyP6y8nyW2v1P4yhzTrLLBqZ",
      "include_colab_link": true
    },
    "kernelspec": {
      "name": "python3",
      "display_name": "Python 3"
    },
    "language_info": {
      "name": "python"
    }
  },
  "cells": [
    {
      "cell_type": "markdown",
      "metadata": {
        "id": "view-in-github",
        "colab_type": "text"
      },
      "source": [
        "<a href=\"https://colab.research.google.com/github/pbelousova/371-Lab/blob/main/Magnetic_flux_density.ipynb\" target=\"_parent\"><img src=\"https://colab.research.google.com/assets/colab-badge.svg\" alt=\"Open In Colab\"/></a>"
      ]
    },
    {
      "cell_type": "code",
      "metadata": {
        "id": "X6JQKLUsaVLr"
      },
      "source": [
        "import pandas as pd\n",
        "import matplotlib.pyplot as plt"
      ],
      "execution_count": 1,
      "outputs": []
    },
    {
      "cell_type": "code",
      "metadata": {
        "id": "FbsULRnmalST"
      },
      "source": [
        "path = \"https://raw.githubusercontent.com/pbelousova/371-Lab/main/Project_Data_Bfield1.csv\"\n",
        "thedata = pd.read_csv(path, names = ['time','magnetic_flux_density'], skiprows=10)\n",
        "thedata[\"time_seconds\"] = .001 * thedata[\"time\"]"
      ],
      "execution_count": 2,
      "outputs": []
    },
    {
      "cell_type": "code",
      "metadata": {
        "id": "OVe_8uobalZf"
      },
      "source": [
        "ax = thedata.plot('time_seconds','magnetic_flux_density',xlabel = \"Time [s]\", ylabel=\"Voltage [AU]\",style='r',label=\"Voltage output\")"
      ],
      "execution_count": null,
      "outputs": []
    },
    {
      "cell_type": "code",
      "metadata": {
        "id": "m6qrtVApalbq"
      },
      "source": [
        "import numpy as np\n",
        "import pandas as pd\n",
        "import plotly.express as px\n",
        "\n",
        "Zero_flux_density = 538.0\n",
        "ADC_step = 4.89 # 5/1023 mV\n",
        "Sensor_output_per_Gauss = 1.9 # mV\n",
        "Gauss_per_step = ADC_step / Sensor_output_per_Gauss\n",
        "\n",
        "url = 'https://raw.githubusercontent.com/pbelousova/371-Lab/main/Project_Data_Bfield1.csv'\n",
        "thedata = pd.read_csv(url)\n",
        "\n",
        "thedata ['Magnetic_flux_density [G]'] = ((thedata['Voltage_out_[AU]'] - Zero_flux_density) * Gauss_per_step)\n",
        "\n",
        "fig = px.line(thedata, x = 'Relative_Time_[ms]', y = 'Magnetic_flux_density [G]', title='Magnetic flux density vs. Time')\n",
        "fig.show()"
      ],
      "execution_count": null,
      "outputs": []
    },
    {
      "cell_type": "code",
      "metadata": {
        "id": "ZQibc-3vald6"
      },
      "source": [
        "print(thedata)"
      ],
      "execution_count": null,
      "outputs": []
    },
    {
      "cell_type": "code",
      "metadata": {
        "id": "5cBAMgDUalin"
      },
      "source": [
        ""
      ],
      "execution_count": null,
      "outputs": []
    },
    {
      "cell_type": "code",
      "metadata": {
        "id": "gvco9MMwalnG"
      },
      "source": [
        ""
      ],
      "execution_count": null,
      "outputs": []
    },
    {
      "cell_type": "code",
      "metadata": {
        "id": "prMVg1QXalrB"
      },
      "source": [
        ""
      ],
      "execution_count": null,
      "outputs": []
    },
    {
      "cell_type": "code",
      "metadata": {
        "id": "oct2z8Y8alub"
      },
      "source": [
        ""
      ],
      "execution_count": null,
      "outputs": []
    },
    {
      "cell_type": "code",
      "metadata": {
        "id": "R9Hnq6ffalxO"
      },
      "source": [
        ""
      ],
      "execution_count": null,
      "outputs": []
    },
    {
      "cell_type": "code",
      "metadata": {
        "id": "6TsRRt6kal1X"
      },
      "source": [
        ""
      ],
      "execution_count": null,
      "outputs": []
    },
    {
      "cell_type": "code",
      "metadata": {
        "id": "8CM6AqICal5u"
      },
      "source": [
        ""
      ],
      "execution_count": null,
      "outputs": []
    }
  ]
}