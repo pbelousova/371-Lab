{
  "nbformat": 4,
  "nbformat_minor": 0,
  "metadata": {
    "colab": {
      "name": "371_Lab4.ipynb",
      "provenance": [],
      "collapsed_sections": [],
      "authorship_tag": "ABX9TyMqZajRcShjBz8GTuJMR5yZ",
      "include_colab_link": true
    },
    "kernelspec": {
      "name": "python3",
      "display_name": "Python 3"
    },
    "language_info": {
      "name": "python"
    }
  },
  "cells": [
    {
      "cell_type": "markdown",
      "metadata": {
        "id": "view-in-github",
        "colab_type": "text"
      },
      "source": [
        "<a href=\"https://colab.research.google.com/github/pbelousova/371-Lab/blob/main/371_Lab4_Plots_Python.ipynb\" target=\"_parent\"><img src=\"https://colab.research.google.com/assets/colab-badge.svg\" alt=\"Open In Colab\"/></a>"
      ]
    },
    {
      "cell_type": "code",
      "metadata": {
        "id": "aVN27D12WkYe"
      },
      "source": [
        "import pandas as pd\n",
        "import matplotlib.pyplot as plt\n"
      ],
      "execution_count": 1,
      "outputs": []
    },
    {
      "cell_type": "code",
      "metadata": {
        "id": "8q87DKhxWpHJ"
      },
      "source": [
        "path = \"https://raw.githubusercontent.com/pbelousova/371-Lab/main/371_Lab4_Signal_Noise_Data.csv\"\n",
        "thedata = pd.read_csv(path, names = ['time','brightness'], skiprows=10)\n",
        "thedata[\"time_seconds\"] = .001 * thedata[\"time\"]"
      ],
      "execution_count": 2,
      "outputs": []
    },
    {
      "cell_type": "code",
      "metadata": {
        "id": "fiIPot-rWxiD"
      },
      "source": [
        "ax = thedata.plot('time_seconds','brightness',xlabel = \"Time [s]\", ylabel=\"Brightness [AU]\",style='r',label=\"Brightness\")"
      ],
      "execution_count": null,
      "outputs": []
    },
    {
      "cell_type": "code",
      "metadata": {
        "id": "2Y355HTjkJjE"
      },
      "source": [
        "ax = thedata.plot('time_seconds','brightness',xlabel = \"Time [s]\", ylabel=\"Brightness [AU]\",style='r',label=\"Brightness\")\n",
        "ax.set_xlim([1,3])"
      ],
      "execution_count": null,
      "outputs": []
    },
    {
      "cell_type": "code",
      "metadata": {
        "id": "bYQdio7ekTun"
      },
      "source": [
        "path = \"https://raw.githubusercontent.com/pbelousova/371-Lab/main/371_Lab4_Signal_Noise_Data_Avg.csv\"\n",
        "thedata = pd.read_csv(path, names = ['time','running avg brightness'], skiprows=10)\n",
        "thedata[\"time_seconds\"] = .001 * thedata[\"time\"]   \n"
      ],
      "execution_count": 5,
      "outputs": []
    },
    {
      "cell_type": "code",
      "metadata": {
        "id": "Z49K1AhS0qCN"
      },
      "source": [
        "ax = thedata.plot('time_seconds','running avg brightness',xlabel = \"Time [s]\", ylabel=\"Running Avg Brightness [AU]\",style='r',label=\"Running Avg Brightness\")\n",
        "ax.set_xlim([1,3])\n",
        "ax.legend(loc=\"lower left\")"
      ],
      "execution_count": null,
      "outputs": []
    },
    {
      "cell_type": "code",
      "metadata": {
        "id": "8DUxkIUHPn9x"
      },
      "source": [
        "path = \"https://raw.githubusercontent.com/pbelousova/371-Lab/main/371_Lab4_Signal_Noise_Data_Avg_3.csv\"\n",
        "thedata = pd.read_csv(path, names = ['time','brightness', 'Avg_Width_10', 'Avg_Width_5'], skiprows=10)\n",
        "thedata[\"Time_seconds\"] = .001 * thedata[\"time\"]"
      ],
      "execution_count": 45,
      "outputs": []
    },
    {
      "cell_type": "code",
      "metadata": {
        "id": "IEqy6WenQCyO"
      },
      "source": [
        "axx = thedata.plot('Time_seconds','brightness', xlabel = \"Time [s]\", ylabel=\"Running Avg Brightness [AU]\" )\n",
        "axx.set_xlim([1,3])\n",
        "thedata.plot('Time_seconds','Avg_Width_5', ax=axx)\n",
        "thedata.plot('Time_seconds','Avg_Width_10', ax=axx)"
      ],
      "execution_count": null,
      "outputs": []
    },
    {
      "cell_type": "code",
      "metadata": {
        "id": "Z487wWgmrVdB"
      },
      "source": [
        "path = \"https://raw.githubusercontent.com/pbelousova/371-Lab/main/371_Lab4_Ampld5.csv\"\n",
        "thedata = pd.read_csv(path, names = ['time','brightness'], skiprows=10)\n",
        "thedata[\"time_seconds\"] = .001 * thedata[\"time\"]"
      ],
      "execution_count": 35,
      "outputs": []
    },
    {
      "cell_type": "code",
      "metadata": {
        "id": "GTT6IYRms33p"
      },
      "source": [
        "ax = thedata.plot('time_seconds','brightness',xlabel = \"Time [s]\", ylabel=\"Brightness [AU]\",style='r',label=\"Brightness\")\n",
        "ax.set_xlim([1,5])"
      ],
      "execution_count": null,
      "outputs": []
    },
    {
      "cell_type": "code",
      "metadata": {
        "id": "VIiHjOGsARDx"
      },
      "source": [
        "path = \"https://raw.githubusercontent.com/pbelousova/371-Lab/main/371_Lab4_Width_35.csv\"\n",
        "thedata = pd.read_csv(path, names = ['time','brightness'], skiprows=10)\n",
        "thedata[\"time_seconds\"] = .001 * thedata[\"time\"]"
      ],
      "execution_count": 85,
      "outputs": []
    },
    {
      "cell_type": "code",
      "metadata": {
        "id": "r5D0N55PARNF"
      },
      "source": [
        "ax = thedata.plot('time_seconds','brightness',xlabel = \"Time [s]\", ylabel=\"Brightness [AU]\",style='r',label=\"Brightness\")\n",
        "ax.set_xlim([1,5])"
      ],
      "execution_count": null,
      "outputs": []
    },
    {
      "cell_type": "code",
      "metadata": {
        "id": "cD27qmX_HDyM"
      },
      "source": [
        "path = \"https://raw.githubusercontent.com/pbelousova/371-Lab/main/371_Lab4_Width45.csv\"\n",
        "thedata = pd.read_csv(path, names = ['time','brightness'], skiprows=10)\n",
        "thedata[\"time_seconds\"] = .001 * thedata[\"time\"]"
      ],
      "execution_count": 87,
      "outputs": []
    },
    {
      "cell_type": "code",
      "metadata": {
        "id": "13l7XneQHEPX"
      },
      "source": [
        "ax = thedata.plot('time_seconds','brightness',xlabel = \"Time [s]\", ylabel=\"Brightness [AU]\",style='r',label=\"Brightness\")\n",
        "ax.set_xlim([1,5])"
      ],
      "execution_count": null,
      "outputs": []
    }
  ]
}